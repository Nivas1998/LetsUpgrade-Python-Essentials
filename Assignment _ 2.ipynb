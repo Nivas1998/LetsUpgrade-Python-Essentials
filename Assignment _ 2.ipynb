{
 "cells": [
  {
   "cell_type": "markdown",
   "metadata": {},
   "source": [
    "## Program to guide the Pilot for the descet landing  for  the respective Altitude."
   ]
  },
  {
   "cell_type": "code",
   "execution_count": 14,
   "metadata": {},
   "outputs": [
    {
     "name": "stdout",
     "output_type": "stream",
     "text": [
      "Enter the altittude: 6500\n",
      "Turn around\n"
     ]
    }
   ],
   "source": [
    "a = int(input(\"Enter the altittude: \"))\n",
    "if(a < 1000):\n",
    "    print(\"Safe to land\")\n",
    "elif((a > 1000) & (a<5000)):\n",
    "    print(\"Bring down to 1000\")\n",
    "elif(a > 5000):\n",
    "    print(\"Turn around\")\n",
    "    "
   ]
  }
 ],
 "metadata": {
  "kernelspec": {
   "display_name": "Python 3",
   "language": "python",
   "name": "python3"
  },
  "language_info": {
   "codemirror_mode": {
    "name": "ipython",
    "version": 3
   },
   "file_extension": ".py",
   "mimetype": "text/x-python",
   "name": "python",
   "nbconvert_exporter": "python",
   "pygments_lexer": "ipython3",
   "version": "3.8.3"
  }
 },
 "nbformat": 4,
 "nbformat_minor": 4
}
