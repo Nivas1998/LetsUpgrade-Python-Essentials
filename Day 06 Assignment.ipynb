{
 "cells": [
  {
   "cell_type": "markdown",
   "metadata": {},
   "source": [
    "### Python program to create a Customer class and return deposit and withdraw methods."
   ]
  },
  {
   "cell_type": "code",
   "execution_count": 1,
   "metadata": {},
   "outputs": [
    {
     "name": "stdout",
     "output_type": "stream",
     "text": [
      "Welcome to DURGABANK\n",
      "Enter Your Name:Nivas\n",
      "d-Deposit \n",
      "w-Withdraw\n",
      "e-exit\n",
      "Choose your option:d\n",
      "Enter Amount to deposit:1500\n",
      "Balance After Deposit: 1856.0\n",
      "d-Deposit \n",
      "w-Withdraw\n",
      "e-exit\n",
      "Choose your option:w\n",
      "Enter Amount to withdraw;200\n",
      "Balance After Withdraw: 1656.0\n",
      "d-Deposit \n",
      "w-Withdraw\n",
      "e-exit\n",
      "Choose your option:e\n",
      "Thanks for Banking...\n"
     ]
    }
   ],
   "source": [
    "class Customer:\n",
    "    \n",
    "    bankname='NivasBANK'\n",
    "    def __init__(self,name,balance=356.0):\n",
    "        self.name=name\n",
    "        self.balance=balance\n",
    "\n",
    "\n",
    "    def deposit(self,amount):\n",
    "        self.balance=self.balance+amount\n",
    "        print('Balance After Deposit:',self.balance)\n",
    "\n",
    "    def withdraw(self,amount):\n",
    "        if amount>self.balance:\n",
    "            print('Insufficient Funds....cannot perform this operation')\n",
    "\n",
    "        else:\n",
    "            self.balance=self.balance-amount\n",
    "            print('Balance After Withdraw:',self.balance)\n",
    "\n",
    "print ('Welcome to',Customer.bankname)\n",
    "\n",
    "name=input('Enter Your Name:')\n",
    "c=Customer(name)\n",
    "while True:\n",
    "           print('d-Deposit \\nw-Withdraw\\ne-exit')\n",
    "           option=input('Choose your option:')\n",
    "           if option.lower()=='d':\n",
    "               amount=float(input('Enter Amount to deposit:'))\n",
    "               c.deposit(amount)\n",
    "           elif option.lower()=='w':\n",
    "               amount=float(input('Enter Amount to withdraw;'))\n",
    "               c.withdraw(amount)\n",
    "           elif option.lower()=='e':\n",
    "               print('Thanks for Banking...')\n",
    "               break\n",
    "           else:\n",
    "                print('Invalid option,please choose valid option')"
   ]
  },
  {
   "cell_type": "markdown",
   "metadata": {},
   "source": [
    "### Python program to create a Cone class and return volume and surfacearea methods."
   ]
  },
  {
   "cell_type": "code",
   "execution_count": 2,
   "metadata": {},
   "outputs": [
    {
     "name": "stdout",
     "output_type": "stream",
     "text": [
      "\n",
      " Length of a Side (Slant)of a Cone = 11.66\n",
      " The Surface Area of a Cone = 332.92 \n",
      " The Volume of a Cone = 376.99\n"
     ]
    }
   ],
   "source": [
    "import math\n",
    "\n",
    "def Vo_Sa_Cone(radius, height):\n",
    "    \n",
    "    l = math.sqrt(radius * radius + height * height)\n",
    "\n",
    "    \n",
    "    SA = math.pi * radius * (radius + l)\n",
    "\n",
    "   \n",
    "    Volume = (1.0/3) * math.pi * radius * radius * height\n",
    "\n",
    "   \n",
    "   \n",
    "    print(\"\\n Length of a Side (Slant)of a Cone = %.2f\" %l)\n",
    "    print(\" The Surface Area of a Cone = %.2f \" %SA)\n",
    "    print(\" The Volume of a Cone = %.2f\" %Volume)\n",
    " \n",
    "\n",
    "Vo_Sa_Cone(6,10)"
   ]
  },
  {
   "cell_type": "code",
   "execution_count": null,
   "metadata": {},
   "outputs": [],
   "source": []
  }
 ],
 "metadata": {
  "kernelspec": {
   "display_name": "Python 3",
   "language": "python",
   "name": "python3"
  },
  "language_info": {
   "codemirror_mode": {
    "name": "ipython",
    "version": 3
   },
   "file_extension": ".py",
   "mimetype": "text/x-python",
   "name": "python",
   "nbconvert_exporter": "python",
   "pygments_lexer": "ipython3",
   "version": "3.8.3"
  }
 },
 "nbformat": 4,
 "nbformat_minor": 4
}
