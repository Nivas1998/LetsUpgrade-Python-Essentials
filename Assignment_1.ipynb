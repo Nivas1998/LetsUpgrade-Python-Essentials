{
 "cells": [
  {
   "cell_type": "markdown",
   "metadata": {},
   "source": [
    "### Python has a set of built-in methods that you can use on [Lists]."
   ]
  },
  {
   "cell_type": "markdown",
   "metadata": {},
   "source": [
    "1. append()method.\n",
    "2. insert()method.\n",
    "3. index()method.\n",
    "4. reverse()method.\n",
    "5. sort()method.\n",
    "\n",
    "\n"
   ]
  },
  {
   "cell_type": "code",
   "execution_count": 9,
   "metadata": {},
   "outputs": [
    {
     "name": "stdout",
     "output_type": "stream",
     "text": [
      "['Banana', 'Apple', 'Mango', 'Cherry', 'Watermelon', 'Orange']\n"
     ]
    }
   ],
   "source": [
    "# append()method:\n",
    "list = [\"Banana\",\"Apple\",\"Mango\",\"Cherry\",\"Watermelon\"]\n",
    "list.append(\"Orange\")\n",
    "print(list)"
   ]
  },
  {
   "cell_type": "code",
   "execution_count": 11,
   "metadata": {},
   "outputs": [
    {
     "name": "stdout",
     "output_type": "stream",
     "text": [
      "['Banana', 'Apple', 'Pomegranate', 'Mango', 'Cherry', 'Watermelon']\n"
     ]
    }
   ],
   "source": [
    "#insert()method:\n",
    "list = [\"Banana\",\"Apple\",\"Mango\",\"Cherry\",\"Watermelon\"]\n",
    "list.insert(2,\"Pomegranate\")\n",
    "print(list)"
   ]
  },
  {
   "cell_type": "code",
   "execution_count": 13,
   "metadata": {},
   "outputs": [
    {
     "data": {
      "text/plain": [
       "3"
      ]
     },
     "execution_count": 13,
     "metadata": {},
     "output_type": "execute_result"
    }
   ],
   "source": [
    "#index()method:\n",
    "list = [\"Banana\",\"Apple\",\"Mango\",\"Cherry\",\"Watermelon\"]\n",
    "list.index(\"Cherry\")"
   ]
  },
  {
   "cell_type": "code",
   "execution_count": 14,
   "metadata": {},
   "outputs": [
    {
     "name": "stdout",
     "output_type": "stream",
     "text": [
      "['Watermelon', 'Cherry', 'Mango', 'Apple', 'Banana']\n"
     ]
    }
   ],
   "source": [
    "#reverse()method:\n",
    "list = [\"Banana\",\"Apple\",\"Mango\",\"Cherry\",\"Watermelon\"]\n",
    "list.reverse()\n",
    "print(list)"
   ]
  },
  {
   "cell_type": "code",
   "execution_count": 15,
   "metadata": {},
   "outputs": [
    {
     "name": "stdout",
     "output_type": "stream",
     "text": [
      "['Apple', 'Banana', 'Cherry', 'Mango', 'Watermelon']\n"
     ]
    }
   ],
   "source": [
    "#sort()method:\n",
    "list = [\"Banana\",\"Apple\",\"Mango\",\"Cherry\",\"Watermelon\"]\n",
    "list.sort()\n",
    "print(list)"
   ]
  },
  {
   "cell_type": "markdown",
   "metadata": {},
   "source": [
    "### Python has a set of built-in methods that you can use on {Dictionaries}."
   ]
  },
  {
   "cell_type": "code",
   "execution_count": null,
   "metadata": {},
   "outputs": [],
   "source": [
    "1. get()method.\n",
    "2. items()method\n",
    "3. popitem()method.\n",
    "4. fromkeys()method.\n",
    "5. keys()method."
   ]
  },
  {
   "cell_type": "code",
   "execution_count": 39,
   "metadata": {},
   "outputs": [
    {
     "name": "stdout",
     "output_type": "stream",
     "text": [
      "229280\n"
     ]
    }
   ],
   "source": [
    "#get()funtion:\n",
    "employee = {\"Name\":\"NIVAS\",\"I.D\":229280,\"Age\":32}\n",
    "print(employee.get(\"I.D\"))"
   ]
  },
  {
   "cell_type": "code",
   "execution_count": 29,
   "metadata": {},
   "outputs": [
    {
     "name": "stdout",
     "output_type": "stream",
     "text": [
      "dict_items([('Name', 'NIVAS'), ('I.D', 229280), ('Age', 32)])\n"
     ]
    }
   ],
   "source": [
    "# items()method:\n",
    "employee = {\"Name\":\"NIVAS\",\"I.D\":229280,\"Age\":32}\n",
    "print(employee.items())"
   ]
  },
  {
   "cell_type": "code",
   "execution_count": 26,
   "metadata": {},
   "outputs": [
    {
     "name": "stdout",
     "output_type": "stream",
     "text": [
      "{'brand': 'Ford', 'model': 'Mustang'}\n"
     ]
    }
   ],
   "source": [
    "#  popitem()method:\n",
    "car = {\"brand\": \"Ford\",\"model\": \"Mustang\",\"year\": 1964}\n",
    "car.popitem()\n",
    "print(car)"
   ]
  },
  {
   "cell_type": "code",
   "execution_count": 37,
   "metadata": {},
   "outputs": [
    {
     "name": "stdout",
     "output_type": "stream",
     "text": [
      "{'key1': 'zero', 'key2': 'zero', 'key3': 'zero', 'key4': 'zero'}\n"
     ]
    }
   ],
   "source": [
    "#fromkeys()method:\n",
    "val1 = (\"key1\",\"key2\",\"key3\",\"key4\")\n",
    "val2 =(\"zero\")\n",
    "thisdict = dict.fromkeys(val1,val2)\n",
    "print(thisdict)"
   ]
  },
  {
   "cell_type": "code",
   "execution_count": 38,
   "metadata": {},
   "outputs": [
    {
     "name": "stdout",
     "output_type": "stream",
     "text": [
      "dict_keys(['Name', 'I.D', 'Age'])\n"
     ]
    }
   ],
   "source": [
    "#keys()method:\n",
    "employee = {\"Name\":\"NIVAS\",\"I.D\":229280,\"Age\":32}\n",
    "print(employee.keys())"
   ]
  },
  {
   "cell_type": "markdown",
   "metadata": {},
   "source": [
    "### Python has a set of built-in methods that you can use on {sets}."
   ]
  },
  {
   "cell_type": "markdown",
   "metadata": {},
   "source": [
    "1. add()method.\n",
    "2. clear()method.\n",
    "3. remove()method.\n",
    "4. discard()method.\n",
    "5. copy()method."
   ]
  },
  {
   "cell_type": "code",
   "execution_count": 44,
   "metadata": {},
   "outputs": [
    {
     "name": "stdout",
     "output_type": "stream",
     "text": [
      "{'Pomegranate', 'Mango', 'Watermelon', 'Apple', 'Cherry', 'Banana'}\n"
     ]
    }
   ],
   "source": [
    "#add()method:\n",
    "fruits = {\"Banana\",\"Apple\",\"Mango\",\"Cherry\",\"Watermelon\"}\n",
    "fruits.add(\"Pomegranate\")\n",
    "print(fruits)"
   ]
  },
  {
   "cell_type": "code",
   "execution_count": 45,
   "metadata": {},
   "outputs": [
    {
     "name": "stdout",
     "output_type": "stream",
     "text": [
      "set()\n"
     ]
    }
   ],
   "source": [
    "# clear()method:\n",
    "fruits = {\"Banana\",\"Apple\",\"Mango\",\"Cherry\",\"Watermelon\"}\n",
    "fruits.clear()\n",
    "print(fruits)     "
   ]
  },
  {
   "cell_type": "code",
   "execution_count": 47,
   "metadata": {},
   "outputs": [
    {
     "name": "stdout",
     "output_type": "stream",
     "text": [
      "{'Mango', 'Watermelon', 'Apple', 'Banana'}\n"
     ]
    }
   ],
   "source": [
    "#remove()method:\n",
    "fruits = {\"Banana\",\"Apple\",\"Mango\",\"Cherry\",\"Watermelon\"}\n",
    "fruits.remove(\"Cherry\")\n",
    "print(fruits)"
   ]
  },
  {
   "cell_type": "code",
   "execution_count": 48,
   "metadata": {},
   "outputs": [
    {
     "name": "stdout",
     "output_type": "stream",
     "text": [
      "{'Mango', 'Apple', 'Cherry', 'Banana'}\n"
     ]
    }
   ],
   "source": [
    "#discard()method:\n",
    "fruits = {\"Banana\",\"Apple\",\"Mango\",\"Cherry\",\"Watermelon\"}\n",
    "fruits.discard(\"Watermelon\")\n",
    "print(fruits)"
   ]
  },
  {
   "cell_type": "code",
   "execution_count": 51,
   "metadata": {},
   "outputs": [
    {
     "name": "stdout",
     "output_type": "stream",
     "text": [
      "{'Mango', 'Watermelon', 'Apple', 'Cherry', 'Banana'}\n"
     ]
    }
   ],
   "source": [
    "#copy()method:\n",
    "fruits = {\"Banana\",\"Apple\",\"Mango\",\"Cherry\",\"Watermelon\"}\n",
    "fruits.copy()\n",
    "print(fruits)"
   ]
  },
  {
   "cell_type": "markdown",
   "metadata": {},
   "source": [
    "### Python has two built-in methods that you can use on (Tuples)."
   ]
  },
  {
   "cell_type": "code",
   "execution_count": null,
   "metadata": {},
   "outputs": [],
   "source": [
    "1. count()method.\n",
    "2. index()method."
   ]
  },
  {
   "cell_type": "code",
   "execution_count": 52,
   "metadata": {},
   "outputs": [
    {
     "name": "stdout",
     "output_type": "stream",
     "text": [
      "2\n"
     ]
    }
   ],
   "source": [
    "#count()method:\n",
    "fruits = (\"Banana\",\"Apple\",\"Mango\",\"Cherry\",\"Watermelon\",\"Cherry\")\n",
    "tuple = fruits.count(\"Cherry\")\n",
    "print(tuple)"
   ]
  },
  {
   "cell_type": "code",
   "execution_count": 53,
   "metadata": {},
   "outputs": [
    {
     "name": "stdout",
     "output_type": "stream",
     "text": [
      "3\n"
     ]
    }
   ],
   "source": [
    "#index()method:\n",
    "fruits = (\"Banana\",\"Apple\",\"Mango\",\"Cherry\",\"Watermelon\")\n",
    "tuple = fruits.index(\"Cherry\")\n",
    "print(tuple)"
   ]
  },
  {
   "cell_type": "markdown",
   "metadata": {},
   "source": [
    "### Python has a set of built-in methods that you can use on \"Strings\"."
   ]
  },
  {
   "cell_type": "markdown",
   "metadata": {},
   "source": [
    "1. split()method.\n",
    "2. format()method.\n",
    "3. isalnum()method\n",
    "4. center()method.\n",
    "5. casefold()method."
   ]
  },
  {
   "cell_type": "code",
   "execution_count": 57,
   "metadata": {},
   "outputs": [
    {
     "name": "stdout",
     "output_type": "stream",
     "text": [
      "['Hello', 'world!']\n"
     ]
    }
   ],
   "source": [
    "#split()method:\n",
    "a = \"Hello,world!\"\n",
    "print(a.split(\",\"))"
   ]
  },
  {
   "cell_type": "code",
   "execution_count": 59,
   "metadata": {},
   "outputs": [
    {
     "name": "stdout",
     "output_type": "stream",
     "text": [
      "My name is NIvas, I'am 32\n"
     ]
    }
   ],
   "source": [
    "#format()method:\n",
    "text1 = \"My name is {fname}, I'am {age}\"\n",
    "print(text1.format(fname = \"Nivas\", age = 32))"
   ]
  },
  {
   "cell_type": "code",
   "execution_count": 62,
   "metadata": {},
   "outputs": [
    {
     "data": {
      "text/plain": [
       "True"
      ]
     },
     "execution_count": 62,
     "metadata": {},
     "output_type": "execute_result"
    }
   ],
   "source": [
    "#isalnum()method:\n",
    "text1 = \"XUV500\"\n",
    "text1.isalnum()"
   ]
  },
  {
   "cell_type": "code",
   "execution_count": 71,
   "metadata": {},
   "outputs": [
    {
     "data": {
      "text/plain": [
       "'Pomegranate'"
      ]
     },
     "execution_count": 71,
     "metadata": {},
     "output_type": "execute_result"
    }
   ],
   "source": [
    "#center()method:\n",
    "fruit = \"Pomegranate\"\n",
    "fruit.center(10)"
   ]
  },
  {
   "cell_type": "code",
   "execution_count": 72,
   "metadata": {},
   "outputs": [
    {
     "data": {
      "text/plain": [
       "'long live python!'"
      ]
     },
     "execution_count": 72,
     "metadata": {},
     "output_type": "execute_result"
    }
   ],
   "source": [
    "#casefold()method:\n",
    "text2 = \"LONG LIVE PYTHON!\"\n",
    "text2.casefold()"
   ]
  }
 ],
 "metadata": {
  "kernelspec": {
   "display_name": "Python 3",
   "language": "python",
   "name": "python3"
  },
  "language_info": {
   "codemirror_mode": {
    "name": "ipython",
    "version": 3
   },
   "file_extension": ".py",
   "mimetype": "text/x-python",
   "name": "python",
   "nbconvert_exporter": "python",
   "pygments_lexer": "ipython3",
   "version": "3.8.3"
  }
 },
 "nbformat": 4,
 "nbformat_minor": 4
}
